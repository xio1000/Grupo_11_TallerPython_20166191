{
  "nbformat": 4,
  "nbformat_minor": 0,
  "metadata": {
    "colab": {
      "provenance": [],
      "include_colab_link": true
    },
    "kernelspec": {
      "name": "python3",
      "display_name": "Python 3"
    },
    "language_info": {
      "name": "python"
    }
  },
  "cells": [
    {
      "cell_type": "markdown",
      "metadata": {
        "id": "view-in-github",
        "colab_type": "text"
      },
      "source": [
        "<a href=\"https://colab.research.google.com/github/xio1000/Grupo_11_TallerPython_20166191/blob/main/GRUPO_11_Tarea1.ipynb\" target=\"_parent\"><img src=\"https://colab.research.google.com/assets/colab-badge.svg\" alt=\"Open In Colab\"/></a>"
      ]
    },
    {
      "cell_type": "markdown",
      "source": [
        "I. Utilizando un “if else” cree una estructura que evalúe “x” :"
      ],
      "metadata": {
        "id": "kEJyxfzN8J37"
      }
    },
    {
      "cell_type": "code",
      "execution_count": null,
      "metadata": {
        "id": "n8SNz6AW8D1F",
        "colab": {
          "base_uri": "https://localhost:8080/"
        },
        "outputId": "1d9e2cdf-8c7e-47db-9f9b-2c0bf2c15d13"
      },
      "outputs": [
        {
          "output_type": "stream",
          "name": "stdout",
          "text": [
            "Es múltiplo de 2 y 3\n"
          ]
        }
      ],
      "source": [
        "x =  6\n",
        "if x % 2 == 0 and x % 3 == 0:\n",
        "    print(\"Es múltiplo de 2 y 3\")\n",
        "elif x % 2 == 0:\n",
        "    print(\"Es múltiplo de 2\")\n",
        "elif x % 3 == 0:\n",
        "    print(\"Es múltiplo de 3\")\n",
        "else:\n",
        "    print(\"Otro caso\")"
      ]
    },
    {
      "cell_type": "markdown",
      "source": [
        "II. Utilizando un “for loop” y el condicional “if else” para un rango del 1 al 100, evalúe “x”"
      ],
      "metadata": {
        "id": "j3fhrxIb8SAi"
      }
    },
    {
      "cell_type": "code",
      "source": [
        "for x in range(1, 101):\n",
        "    if x % 3 == 0 and x % 5 == 0:\n",
        "        print(\"FizzBuzz\")\n",
        "    elif x % 3 == 0:\n",
        "        print(\"Fizz\")\n",
        "    elif x % 5 == 0:\n",
        "        print(\"Buzz\")\n",
        "\n",
        "    else:\n",
        "        print(x)"
      ],
      "metadata": {
        "id": "G5oLN0xQ8VBT",
        "colab": {
          "base_uri": "https://localhost:8080/"
        },
        "outputId": "e3430040-85a6-4bcf-885f-6eadb8b5012f"
      },
      "execution_count": null,
      "outputs": [
        {
          "output_type": "stream",
          "name": "stdout",
          "text": [
            "1\n",
            "2\n",
            "Fizz\n",
            "4\n",
            "Buzz\n",
            "Fizz\n",
            "7\n",
            "8\n",
            "Fizz\n",
            "Buzz\n",
            "11\n",
            "Fizz\n",
            "13\n",
            "14\n",
            "FizzBuzz\n",
            "16\n",
            "17\n",
            "Fizz\n",
            "19\n",
            "Buzz\n",
            "Fizz\n",
            "22\n",
            "23\n",
            "Fizz\n",
            "Buzz\n",
            "26\n",
            "Fizz\n",
            "28\n",
            "29\n",
            "FizzBuzz\n",
            "31\n",
            "32\n",
            "Fizz\n",
            "34\n",
            "Buzz\n",
            "Fizz\n",
            "37\n",
            "38\n",
            "Fizz\n",
            "Buzz\n",
            "41\n",
            "Fizz\n",
            "43\n",
            "44\n",
            "FizzBuzz\n",
            "46\n",
            "47\n",
            "Fizz\n",
            "49\n",
            "Buzz\n",
            "Fizz\n",
            "52\n",
            "53\n",
            "Fizz\n",
            "Buzz\n",
            "56\n",
            "Fizz\n",
            "58\n",
            "59\n",
            "FizzBuzz\n",
            "61\n",
            "62\n",
            "Fizz\n",
            "64\n",
            "Buzz\n",
            "Fizz\n",
            "67\n",
            "68\n",
            "Fizz\n",
            "Buzz\n",
            "71\n",
            "Fizz\n",
            "73\n",
            "74\n",
            "FizzBuzz\n",
            "76\n",
            "77\n",
            "Fizz\n",
            "79\n",
            "Buzz\n",
            "Fizz\n",
            "82\n",
            "83\n",
            "Fizz\n",
            "Buzz\n",
            "86\n",
            "Fizz\n",
            "88\n",
            "89\n",
            "FizzBuzz\n",
            "91\n",
            "92\n",
            "Fizz\n",
            "94\n",
            "Buzz\n",
            "Fizz\n",
            "97\n",
            "98\n",
            "Fizz\n",
            "Buzz\n"
          ]
        }
      ]
    },
    {
      "cell_type": "markdown",
      "source": [
        "III. Crea una función calcular_descuento() que permita calcular el descuento aplicado a un\n",
        "producto."
      ],
      "metadata": {
        "id": "mhXbRPLC8Vai"
      }
    },
    {
      "cell_type": "code",
      "source": [
        "def calcular_descuento(total_compra):\n",
        "    if total_compra >= 1000:\n",
        "      porcentaje_descuento = 20\n",
        "    elif total_compra >= 500 or total_compra < 1000:\n",
        "      porcentaje_descuento = 10\n",
        "    elif total_compra < 500:\n",
        "      porcentaje_descuento = 0\n",
        "    precio_con_descuento = total_compra - (total_compra * porcentaje_descuento / 100)\n",
        "    return precio_con_descuento"
      ],
      "metadata": {
        "id": "PVk0kU9j8YJZ"
      },
      "execution_count": null,
      "outputs": []
    },
    {
      "cell_type": "code",
      "source": [
        "print(calcular_descuento(1200))"
      ],
      "metadata": {
        "colab": {
          "base_uri": "https://localhost:8080/"
        },
        "id": "HmRj6B1M86L2",
        "outputId": "3e5cc5f1-f37b-42b9-9808-f9cb2904af4a"
      },
      "execution_count": null,
      "outputs": [
        {
          "output_type": "stream",
          "name": "stdout",
          "text": [
            "960.0\n"
          ]
        }
      ]
    },
    {
      "cell_type": "code",
      "source": [
        "print(calcular_descuento(750))"
      ],
      "metadata": {
        "colab": {
          "base_uri": "https://localhost:8080/"
        },
        "id": "3xJPmt729CBZ",
        "outputId": "7cb61d4a-71d0-478c-9587-40d2acf100a6"
      },
      "execution_count": null,
      "outputs": [
        {
          "output_type": "stream",
          "name": "stdout",
          "text": [
            "675.0\n"
          ]
        }
      ]
    },
    {
      "cell_type": "code",
      "source": [
        "print(calcular_descuento(300))"
      ],
      "metadata": {
        "colab": {
          "base_uri": "https://localhost:8080/"
        },
        "id": "AnDr5MK19HP_",
        "outputId": "186be3c0-01d2-4fee-ff68-ac54b9a136c9"
      },
      "execution_count": null,
      "outputs": [
        {
          "output_type": "stream",
          "name": "stdout",
          "text": [
            "270.0\n"
          ]
        }
      ]
    },
    {
      "cell_type": "markdown",
      "source": [
        "IV.Crea una función llamada clasificar_edad() que reciba como parámetro la edad de una\n",
        "persona."
      ],
      "metadata": {
        "id": "z3Z_rHWa8YpC"
      }
    },
    {
      "cell_type": "code",
      "source": [
        "def clasificar_edad(edad):\n",
        "    if edad < 12:\n",
        "        return \"Niño\"\n",
        "    elif 12 <= edad <= 17:\n",
        "        return \"Adolescente\"\n",
        "    elif 18 <= edad <= 24:\n",
        "        return \"Joven\"\n",
        "    elif 25 <= edad <= 64:\n",
        "        return \"Adulto\"\n",
        "    elif edad >= 65:\n",
        "        return \"Adulto Mayor\"\n",
        "\n",
        "\n",
        "edades= [10, 19, 25, 70]\n",
        "\n",
        "for edad in edades:\n",
        "    categoria = clasificar_edad(edad)\n",
        "    print(f\"La persona con  {edad} años es un {categoria}\")"
      ],
      "metadata": {
        "id": "FEHsKhZI8vbI",
        "colab": {
          "base_uri": "https://localhost:8080/"
        },
        "outputId": "4fe3a79a-c021-44ae-a84a-bd78d9c331f8"
      },
      "execution_count": null,
      "outputs": [
        {
          "output_type": "stream",
          "name": "stdout",
          "text": [
            "La persona con  10 años es un Niño\n",
            "La persona con  19 años es un Joven\n",
            "La persona con  25 años es un Adulto\n",
            "La persona con  70 años es un Adulto Mayor\n"
          ]
        }
      ]
    },
    {
      "cell_type": "markdown",
      "source": [
        "V. Sea la fórmula del CRAEST PUCP"
      ],
      "metadata": {
        "id": "GJFT40gD8wPi"
      }
    },
    {
      "cell_type": "code",
      "source": [
        "def calcular_craest(media_personal,media_curso,desviacion_curso):\n",
        "  \"\"\"\n",
        "     Objetivo:\n",
        "              - Calcular el CRAEST según la fórmula de la PUCP\n",
        "     Input:\n",
        "              -media_personal: Media del alumno en el curso\n",
        "              -media_curso: Media del curso\n",
        "              -desviacion_curso: Desviación estándar del curso\n",
        "     Output:\n",
        "              -calcular_craest: CRAEST del alumno\n",
        "  \"\"\"\n",
        "\n",
        "  calcular_craest=((media_personal-media_curso)*10/desviacion_curso)+50\n",
        "  return calcular_craest"
      ],
      "metadata": {
        "id": "y5HZBdQbCWu-"
      },
      "execution_count": null,
      "outputs": []
    },
    {
      "cell_type": "code",
      "source": [
        "calcular_craest(14,15,3.5)"
      ],
      "metadata": {
        "colab": {
          "base_uri": "https://localhost:8080/"
        },
        "id": "3TZUb61UxpSh",
        "outputId": "1612f35c-a3c8-4578-ca2d-7b45b39fcae4"
      },
      "execution_count": null,
      "outputs": [
        {
          "output_type": "execute_result",
          "data": {
            "text/plain": [
              "47.142857142857146"
            ]
          },
          "metadata": {},
          "execution_count": 4
        }
      ]
    }
  ]
}